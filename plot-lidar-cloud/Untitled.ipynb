{
 "cells": [
  {
   "cell_type": "code",
   "execution_count": 5,
   "metadata": {
    "collapsed": false
   },
   "outputs": [
    {
     "name": "stderr",
     "output_type": "stream",
     "text": [
      "/Users/jocelynreahl/Downloads/plot-lidar-cloud/epdobase.py:1873: FutureWarning: elementwise comparison failed; returning scalar instead, but in the future will perform elementwise comparison\n",
      "  flag_nulls = column_arr == 'null'\n",
      "/Users/jocelynreahl/Downloads/plot-lidar-cloud/epdobase.py:1874: FutureWarning: elementwise comparison failed; returning scalar instead, but in the future will perform elementwise comparison\n",
      "  flag_empty = column_arr == ''\n"
     ]
    },
    {
     "ename": "KeyError",
     "evalue": "'x'",
     "output_type": "error",
     "traceback": [
      "\u001b[0;31m---------------------------------------------------------------------------\u001b[0m",
      "\u001b[0;31mKeyError\u001b[0m                                  Traceback (most recent call last)",
      "\u001b[0;32m<ipython-input-5-c17b255071b9>\u001b[0m in \u001b[0;36m<module>\u001b[0;34m()\u001b[0m\n\u001b[1;32m     17\u001b[0m \u001b[0mep\u001b[0m\u001b[0;34m.\u001b[0m\u001b[0mnumerize\u001b[0m\u001b[0;34m(\u001b[0m\u001b[0;34m)\u001b[0m\u001b[0;34m\u001b[0m\u001b[0m\n\u001b[1;32m     18\u001b[0m \u001b[0;34m\u001b[0m\u001b[0m\n\u001b[0;32m---> 19\u001b[0;31m \u001b[0mx\u001b[0m \u001b[0;34m=\u001b[0m \u001b[0mep\u001b[0m\u001b[0;34m.\u001b[0m\u001b[0mndct\u001b[0m\u001b[0;34m[\u001b[0m\u001b[0;34m'x'\u001b[0m\u001b[0;34m]\u001b[0m\u001b[0;34m/\u001b[0m\u001b[0;36m100.0\u001b[0m\u001b[0;34m\u001b[0m\u001b[0m\n\u001b[0m\u001b[1;32m     20\u001b[0m \u001b[0my\u001b[0m \u001b[0;34m=\u001b[0m \u001b[0mep\u001b[0m\u001b[0;34m.\u001b[0m\u001b[0mndct\u001b[0m\u001b[0;34m[\u001b[0m\u001b[0;34m'y'\u001b[0m\u001b[0;34m]\u001b[0m\u001b[0;34m/\u001b[0m\u001b[0;36m100.0\u001b[0m\u001b[0;34m\u001b[0m\u001b[0m\n\u001b[1;32m     21\u001b[0m \u001b[0mz\u001b[0m \u001b[0;34m=\u001b[0m \u001b[0mep\u001b[0m\u001b[0;34m.\u001b[0m\u001b[0mndct\u001b[0m\u001b[0;34m[\u001b[0m\u001b[0;34m'z'\u001b[0m\u001b[0;34m]\u001b[0m\u001b[0;34m/\u001b[0m\u001b[0;36m100.0\u001b[0m\u001b[0;34m\u001b[0m\u001b[0m\n",
      "\u001b[0;31mKeyError\u001b[0m: 'x'"
     ]
    }
   ],
   "source": [
    "import epdobase as eb\n",
    "import matplotlib.pyplot as pl\n",
    "#import golgis as gg\n",
    "import numpy as np\n",
    "\n",
    "pl.rc(\"font\",size=12)\n",
    "\n",
    "from mpl_toolkits.mplot3d import Axes3D\n",
    "\n",
    "ceiling = 2.0 # 20.0\n",
    "\n",
    "pl.ion()\n",
    "\n",
    "ep = eb.cl_epdobase()\n",
    "\n",
    "ep.load('Test_4_Lake-Waban-Boathouse.csv','csv')\n",
    "ep.numerize()\n",
    "\n",
    "x = ep.ndct['x']/100.0\n",
    "y = ep.ndct['y']/100.0\n",
    "z = ep.ndct['z']/100.0\n",
    "\n",
    "inds = np.nonzero((z < ceiling)*(x < 10)*(x>-10)*(y<10))[0]\n",
    "\n",
    "xp = x[inds]\n",
    "yp = y[inds]\n",
    "zp = z[inds]\n",
    "\n",
    "fig = pl.figure(1)\n",
    "ax = fig.add_subplot(111, projection='3d')\n",
    "\n",
    "ax.scatter(xp,yp,zp,'.',c=zp)\n",
    "\n",
    "ax.set_xlabel('x [m]')\n",
    "ax.set_ylabel('y [m]')\n",
    "ax.set_zlabel('z [m]')\n",
    "\n",
    "pl.figure(2)\n",
    "pl.scatter(xp,yp,20,zp,'.')\n",
    "pl.colorbar()\n",
    "pl.axis('equal')\n",
    "pl.xlabel('x [m]')\n",
    "pl.ylabel('y [m]')\n",
    "#pl.clabel('z [m]')\n",
    "pl.savefig('cloud.png',dpi=200)\n",
    "\n",
    "\n",
    "# >> Finally, compute the gridmap by regridding the data:\n",
    "\n",
    "#gdmp = gg.gridmap_from_irregpt(xp, yp, [zp], rect = (-10, 10, 0, 10))\n",
    "#gdmp.maps.append(gdmp.maps[0].data)\n",
    "\n",
    "#gdmp.draw(mapnum=1,fignum=3, colormap=\"rainbow\")\n",
    "#pl.colorbar()\n",
    "#pl.savefig('undertree_dem.png',dpi=200)\n",
    "\n"
   ]
  },
  {
   "cell_type": "code",
   "execution_count": null,
   "metadata": {
    "collapsed": true
   },
   "outputs": [],
   "source": []
  }
 ],
 "metadata": {
  "anaconda-cloud": {},
  "kernelspec": {
   "display_name": "Python [Root]",
   "language": "python",
   "name": "Python [Root]"
  },
  "language_info": {
   "codemirror_mode": {
    "name": "ipython",
    "version": 3
   },
   "file_extension": ".py",
   "mimetype": "text/x-python",
   "name": "python",
   "nbconvert_exporter": "python",
   "pygments_lexer": "ipython3",
   "version": "3.5.2"
  }
 },
 "nbformat": 4,
 "nbformat_minor": 0
}
